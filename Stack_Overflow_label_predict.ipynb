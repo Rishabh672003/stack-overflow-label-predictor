{
  "nbformat": 4,
  "nbformat_minor": 0,
  "metadata": {
    "colab": {
      "provenance": [],
      "authorship_tag": "ABX9TyPremf7N9/mKph4w+Iwx2n3",
      "include_colab_link": true
    },
    "kernelspec": {
      "name": "python3",
      "display_name": "Python 3"
    },
    "language_info": {
      "name": "python"
    }
  },
  "cells": [
    {
      "cell_type": "markdown",
      "metadata": {
        "id": "view-in-github",
        "colab_type": "text"
      },
      "source": [
        "<a href=\"https://colab.research.google.com/github/Rishabh672003/stack-overflow-label-predictor/blob/main/Stack_Overflow_label_predict.ipynb\" target=\"_parent\"><img src=\"https://colab.research.google.com/assets/colab-badge.svg\" alt=\"Open In Colab\"/></a>"
      ]
    },
    {
      "cell_type": "code",
      "source": [
        "import matplotlib.pyplot as plt\n",
        "import os\n",
        "import re\n",
        "import shutil\n",
        "import string\n",
        "import tensorflow as tf\n",
        "import numpy as np\n",
        "from sklearn.metrics import confusion_matrix\n",
        "import seaborn as sns\n",
        "\n",
        "from tensorflow.keras import layers\n",
        "from tensorflow.keras import losses"
      ],
      "metadata": {
        "id": "8hIkCm9RbPpf"
      },
      "execution_count": 1,
      "outputs": []
    },
    {
      "cell_type": "code",
      "source": [
        "url = \"https://github.com/Rishabh672003/stack-overflow-label-predictor/raw/main/stack_overflow_16k.tar.gz\"\n",
        "\n",
        "dataset = tf.keras.utils.get_file(\"stack_overflow_16k\", url,\n",
        "                                    untar=True, cache_dir='.',\n",
        "                                    cache_subdir='')\n",
        "!rm -rf stack_overflow_16k/train/javascript\n",
        "!rm -rf stack_overflow_16k/test/javascript\n",
        "dataset_dir = os.path.join(os.path.dirname(dataset), 'stack_overflow_16k')"
      ],
      "metadata": {
        "id": "0c3CR4HlbS8p",
        "colab": {
          "base_uri": "https://localhost:8080/"
        },
        "outputId": "d43166a6-93ee-4b28-f51e-83d0b7d5590c"
      },
      "execution_count": 2,
      "outputs": [
        {
          "output_type": "stream",
          "name": "stdout",
          "text": [
            "Downloading data from https://github.com/Rishabh672003/stack-overflow-label-predictor/raw/main/stack_overflow_16k.tar.gz\n",
            "6057178/6057178 [==============================] - 0s 0us/step\n"
          ]
        }
      ]
    },
    {
      "cell_type": "code",
      "source": [
        "os.listdir(dataset_dir)"
      ],
      "metadata": {
        "colab": {
          "base_uri": "https://localhost:8080/"
        },
        "id": "Cy9v07Yxb4VU",
        "outputId": "54f35a8f-f3c9-4437-d4ad-6230751409a9"
      },
      "execution_count": 3,
      "outputs": [
        {
          "output_type": "execute_result",
          "data": {
            "text/plain": [
              "['test', 'train', 'README.md']"
            ]
          },
          "metadata": {},
          "execution_count": 3
        }
      ]
    },
    {
      "cell_type": "code",
      "source": [
        "train_dir = os.path.join(dataset_dir, 'train')\n",
        "os.listdir(train_dir)"
      ],
      "metadata": {
        "colab": {
          "base_uri": "https://localhost:8080/"
        },
        "id": "tFvdET1Ib_Qo",
        "outputId": "a7a7215e-c856-48cb-da4a-1a5480cf4927"
      },
      "execution_count": 4,
      "outputs": [
        {
          "output_type": "execute_result",
          "data": {
            "text/plain": [
              "['csharp', 'python', 'java']"
            ]
          },
          "metadata": {},
          "execution_count": 4
        }
      ]
    },
    {
      "cell_type": "code",
      "source": [
        "sample_file = os.path.join(train_dir, 'csharp/1.txt')\n",
        "with open(sample_file) as f:\n",
        "  print(f.read())"
      ],
      "metadata": {
        "colab": {
          "base_uri": "https://localhost:8080/"
        },
        "id": "3XlgNYaTdVMz",
        "outputId": "bb6ed6eb-b857-4934-9180-01247c445368"
      },
      "execution_count": 5,
      "outputs": [
        {
          "output_type": "stream",
          "name": "stdout",
          "text": [
            "\"get the y axis height of webbrowser control document i am trying to get the height of a document in a web browser control...at the moment i'm using the code below but it always returns 622 and i know my documents are all different sizes...private void webcomparesql_documentcompleted(object sender, webbrowserdocumentcompletedeventargs e).        {.            htmldocument htmldoc = webcomparesql.document;.           int scrollhight = htmldoc.window.position.y;.        }...can someone please show me the right way to do this?\"\n",
            "\n"
          ]
        }
      ]
    },
    {
      "cell_type": "code",
      "source": [
        "batch_size = 32\n",
        "seed = 42\n",
        "\n",
        "raw_train_ds = tf.keras.utils.text_dataset_from_directory(\n",
        "    'stack_overflow_16k/train',\n",
        "    batch_size=batch_size,\n",
        "    validation_split=0.2,\n",
        "    subset='training',\n",
        "    seed=seed)"
      ],
      "metadata": {
        "colab": {
          "base_uri": "https://localhost:8080/"
        },
        "id": "27RgWSEpdsUa",
        "outputId": "80328bfa-f9c3-4545-c98b-7206c6c0d33e"
      },
      "execution_count": 6,
      "outputs": [
        {
          "output_type": "stream",
          "name": "stdout",
          "text": [
            "Found 6000 files belonging to 3 classes.\n",
            "Using 4800 files for training.\n"
          ]
        }
      ]
    },
    {
      "cell_type": "code",
      "source": [
        "for text_batch, label_batch in raw_train_ds.take(1):\n",
        "  for i in range(3):\n",
        "    print(\"Review\", text_batch.numpy()[i])\n",
        "    print(\"Label\", label_batch.numpy()[i])"
      ],
      "metadata": {
        "colab": {
          "base_uri": "https://localhost:8080/"
        },
        "id": "r3Ssdtd-dwLU",
        "outputId": "90a30e05-dcff-40c6-b502-dd653ab61d97"
      },
      "execution_count": 7,
      "outputs": [
        {
          "output_type": "stream",
          "name": "stdout",
          "text": [
            "Review b'\"what\\'s the difference between function and function() in blank? for example, .    thread t = new thread(function);.why not.    thread t = new thread(function());.thank you.\"\\n'\n",
            "Label 0\n",
            "Review b'\"creating a json parsing function with blank i have been trying to create a function to use as an importable tool for parsing json. here is my code i have so far..#json parser.def jsonimporter(file_path , env_to_return):.    import json.    a = open(file_path,\"\"r\"\") #opens and sets the file to read..    data = a.read()         #sets variable to read function.    print(data)..    json_data = json.loads(data) #loads the json data and stores it in json_data variable...    print(json_data).    json_data.get(env_to_return)..    return json_data...what my issue is, is that when i call the function in another file it does not display the parsed json it just displays the json as a a dict in this form;..{u\\'environments\\': [{u\\'dev\\': [u\\'111\\', u\\'222\\']}, {u\\'qa\\': [u\\'333\\', u\\'444\\']}, {u\\'prod\\': [u\\'555\\', u\\'666\\']}]}...the print statements you see are just me trying to double check my answers. .also i have passed the call the correct parameters as it prints out the parameters if i ask it too. thank you for your help!..dev = jsonimporter(\"\"test2.json\"\",\"\"dev\"\").# dosomething with value.print(value)...this is how i called the function\"\\n'\n",
            "Label 2\n",
            "Review b'\"calculate the average for the element in the nth position in two lists in blank this is a sample code...a = [\\'abc\\', 1234, 23].b = [\\'def\\', 1234, 24].c = [\\'abc\\', 5678, 23].d = [\\'def\\', 5678, 24].letters = [a,b,c,d]...i want to store the lists with the same values in the 2nd position of the lists and calculate the average for the 3rd position. for eg:..list_ = [\\'abc\\', \\'def\\', 1234, 23.48]\"\\n'\n",
            "Label 2\n"
          ]
        }
      ]
    },
    {
      "cell_type": "code",
      "source": [
        "print(\"Label 0 corresponds to\", raw_train_ds.class_names[0])\n",
        "print(\"Label 1 corresponds to\", raw_train_ds.class_names[1])\n",
        "print(\"Label 2 corresponds to\", raw_train_ds.class_names[2])"
      ],
      "metadata": {
        "colab": {
          "base_uri": "https://localhost:8080/"
        },
        "id": "229zB2Nvd-IZ",
        "outputId": "54d5937f-49f7-4d40-88bb-dcb745cda53c"
      },
      "execution_count": 8,
      "outputs": [
        {
          "output_type": "stream",
          "name": "stdout",
          "text": [
            "Label 0 corresponds to csharp\n",
            "Label 1 corresponds to java\n",
            "Label 2 corresponds to python\n"
          ]
        }
      ]
    },
    {
      "cell_type": "code",
      "source": [
        "raw_val_ds = tf.keras.utils.text_dataset_from_directory(\n",
        "    'stack_overflow_16k/train',\n",
        "    batch_size=batch_size,\n",
        "    validation_split=0.2,\n",
        "    subset='validation',\n",
        "    seed=seed)"
      ],
      "metadata": {
        "colab": {
          "base_uri": "https://localhost:8080/"
        },
        "id": "0knzPB8keJnl",
        "outputId": "543c219e-032a-450d-9541-c66c19e666c1"
      },
      "execution_count": 9,
      "outputs": [
        {
          "output_type": "stream",
          "name": "stdout",
          "text": [
            "Found 6000 files belonging to 3 classes.\n",
            "Using 1200 files for validation.\n"
          ]
        }
      ]
    },
    {
      "cell_type": "code",
      "source": [
        "raw_test_ds = tf.keras.utils.text_dataset_from_directory(\n",
        "    'stack_overflow_16k/test',\n",
        "    batch_size=batch_size)"
      ],
      "metadata": {
        "colab": {
          "base_uri": "https://localhost:8080/"
        },
        "id": "PLfM4Ru5eR0i",
        "outputId": "f5b28f0d-8853-4d8e-a563-5f6c83c106c4"
      },
      "execution_count": 10,
      "outputs": [
        {
          "output_type": "stream",
          "name": "stdout",
          "text": [
            "Found 6000 files belonging to 3 classes.\n"
          ]
        }
      ]
    },
    {
      "cell_type": "code",
      "source": [
        "def custom_standardization(input_data):\n",
        "  lowercase = tf.strings.lower(input_data)\n",
        "  stripped_html = tf.strings.regex_replace(lowercase, '<br />', ' ')\n",
        "  return tf.strings.regex_replace(stripped_html,\n",
        "                                  '[%s]' % re.escape(string.punctuation),\n",
        "                                  '')"
      ],
      "metadata": {
        "id": "9G7nXwP3ecHt"
      },
      "execution_count": 11,
      "outputs": []
    },
    {
      "cell_type": "code",
      "source": [
        "max_features = 10000\n",
        "sequence_length = 250\n",
        "\n",
        "vectorize_layer = layers.TextVectorization(\n",
        "    standardize=custom_standardization,\n",
        "    max_tokens=max_features,\n",
        "    output_mode='int',\n",
        "    output_sequence_length=sequence_length)"
      ],
      "metadata": {
        "id": "jZQKBEOTegM7"
      },
      "execution_count": 12,
      "outputs": []
    },
    {
      "cell_type": "code",
      "source": [
        "# Make a text-only dataset (without labels), then call adapt\n",
        "train_text = raw_train_ds.map(lambda x, y: x)\n",
        "vectorize_layer.adapt(train_text)"
      ],
      "metadata": {
        "id": "NJAb4pmjei9s"
      },
      "execution_count": 13,
      "outputs": []
    },
    {
      "cell_type": "code",
      "source": [
        "def vectorize_text(text, label):\n",
        "  text = tf.expand_dims(text, -1)\n",
        "  return vectorize_layer(text), label"
      ],
      "metadata": {
        "id": "dRVSnxHcemDw"
      },
      "execution_count": 14,
      "outputs": []
    },
    {
      "cell_type": "code",
      "source": [
        "# retrieve a batch (of 32 reviews and labels) from the dataset\n",
        "text_batch, label_batch = next(iter(raw_train_ds))\n",
        "first_review, first_label = text_batch[0], label_batch[0]\n",
        "print(\"Review\", first_review)\n",
        "print(\"Label\", raw_train_ds.class_names[first_label])\n",
        "print(\"Vectorized review\", vectorize_text(first_review, first_label))"
      ],
      "metadata": {
        "colab": {
          "base_uri": "https://localhost:8080/"
        },
        "id": "tkBw5DNdepVV",
        "outputId": "53ac30cf-83dd-4799-9066-089dc29f5879"
      },
      "execution_count": 15,
      "outputs": [
        {
          "output_type": "stream",
          "name": "stdout",
          "text": [
            "Review tf.Tensor(b'\"asynchronous parallel threads i want to run a function asynchronously in parallel for all the objects in a collection..here\\'s the current code snippet...parallel.foreach(objs,.                new paralleloptions { maxdegreeofparallelism = 10 },.                item =&gt;.            {.                dosomething(someparameter, item);.            });...how can i achieve this is with async-parallel threads\"\\n', shape=(), dtype=string)\n",
            "Label csharp\n",
            "Vectorized review (<tf.Tensor: shape=(1, 250), dtype=int64, numpy=\n",
            "array([[8756, 2227, 1093,    3,   45,    4,  129,    5,   88, 4980,    6,\n",
            "        2227,   10,   75,    2,  230,    6,    5,    1,    2,  228,   31,\n",
            "           1,   14,    1,    1,  140,  225,   76,    1,  225,   27,   38,\n",
            "           3,  726,   13,    7,   26,    1, 1093,    0,    0,    0,    0,\n",
            "           0,    0,    0,    0,    0,    0,    0,    0,    0,    0,    0,\n",
            "           0,    0,    0,    0,    0,    0,    0,    0,    0,    0,    0,\n",
            "           0,    0,    0,    0,    0,    0,    0,    0,    0,    0,    0,\n",
            "           0,    0,    0,    0,    0,    0,    0,    0,    0,    0,    0,\n",
            "           0,    0,    0,    0,    0,    0,    0,    0,    0,    0,    0,\n",
            "           0,    0,    0,    0,    0,    0,    0,    0,    0,    0,    0,\n",
            "           0,    0,    0,    0,    0,    0,    0,    0,    0,    0,    0,\n",
            "           0,    0,    0,    0,    0,    0,    0,    0,    0,    0,    0,\n",
            "           0,    0,    0,    0,    0,    0,    0,    0,    0,    0,    0,\n",
            "           0,    0,    0,    0,    0,    0,    0,    0,    0,    0,    0,\n",
            "           0,    0,    0,    0,    0,    0,    0,    0,    0,    0,    0,\n",
            "           0,    0,    0,    0,    0,    0,    0,    0,    0,    0,    0,\n",
            "           0,    0,    0,    0,    0,    0,    0,    0,    0,    0,    0,\n",
            "           0,    0,    0,    0,    0,    0,    0,    0,    0,    0,    0,\n",
            "           0,    0,    0,    0,    0,    0,    0,    0,    0,    0,    0,\n",
            "           0,    0,    0,    0,    0,    0,    0,    0,    0,    0,    0,\n",
            "           0,    0,    0,    0,    0,    0,    0,    0,    0,    0,    0,\n",
            "           0,    0,    0,    0,    0,    0,    0,    0,    0,    0,    0,\n",
            "           0,    0,    0,    0,    0,    0,    0,    0]])>, <tf.Tensor: shape=(), dtype=int32, numpy=0>)\n"
          ]
        }
      ]
    },
    {
      "cell_type": "code",
      "source": [
        "print(\"128 ---> \",vectorize_layer.get_vocabulary()[128])\n",
        "print(\" 313 ---> \",vectorize_layer.get_vocabulary()[313])\n",
        "print('Vocabulary size: {}'.format(len(vectorize_layer.get_vocabulary())))"
      ],
      "metadata": {
        "colab": {
          "base_uri": "https://localhost:8080/"
        },
        "id": "rOvRTjLUex5B",
        "outputId": "5506fff9-bdff-43c0-e04c-09eed729e0f2"
      },
      "execution_count": 16,
      "outputs": [
        {
          "output_type": "stream",
          "name": "stdout",
          "text": [
            "128 --->  why\n",
            " 313 --->  words\n",
            "Vocabulary size: 10000\n"
          ]
        }
      ]
    },
    {
      "cell_type": "code",
      "source": [
        "train_ds = raw_train_ds.map(vectorize_text)\n",
        "val_ds = raw_val_ds.map(vectorize_text)\n",
        "test_ds = raw_test_ds.map(vectorize_text)"
      ],
      "metadata": {
        "id": "gk29Q_rUe0GX"
      },
      "execution_count": 17,
      "outputs": []
    },
    {
      "cell_type": "code",
      "source": [
        "AUTOTUNE = tf.data.AUTOTUNE\n",
        "\n",
        "train_ds = train_ds.cache().prefetch(buffer_size=AUTOTUNE)\n",
        "val_ds = val_ds.cache().prefetch(buffer_size=AUTOTUNE)\n",
        "test_ds = test_ds.cache().prefetch(buffer_size=AUTOTUNE)"
      ],
      "metadata": {
        "id": "ndTfcWIbfkwt"
      },
      "execution_count": 18,
      "outputs": []
    },
    {
      "cell_type": "code",
      "source": [
        "embedding_dim = 16"
      ],
      "metadata": {
        "id": "IZrv8tDMfoIf"
      },
      "execution_count": 19,
      "outputs": []
    },
    {
      "cell_type": "code",
      "source": [
        "model = tf.keras.Sequential([\n",
        "  layers.Embedding(max_features, embedding_dim),\n",
        "  layers.Dropout(0.2),\n",
        "  layers.GlobalAveragePooling1D(),\n",
        "  layers.Dropout(0.2),\n",
        "  layers.Dense(3)])\n",
        "\n",
        "model.summary()"
      ],
      "metadata": {
        "colab": {
          "base_uri": "https://localhost:8080/"
        },
        "id": "sTBDB-ILfrgE",
        "outputId": "733d360a-1465-431d-b706-82bebd56ecae"
      },
      "execution_count": 20,
      "outputs": [
        {
          "output_type": "stream",
          "name": "stdout",
          "text": [
            "Model: \"sequential\"\n",
            "_________________________________________________________________\n",
            " Layer (type)                Output Shape              Param #   \n",
            "=================================================================\n",
            " embedding (Embedding)       (None, None, 16)          160000    \n",
            "                                                                 \n",
            " dropout (Dropout)           (None, None, 16)          0         \n",
            "                                                                 \n",
            " global_average_pooling1d (  (None, 16)                0         \n",
            " GlobalAveragePooling1D)                                         \n",
            "                                                                 \n",
            " dropout_1 (Dropout)         (None, 16)                0         \n",
            "                                                                 \n",
            " dense (Dense)               (None, 3)                 51        \n",
            "                                                                 \n",
            "=================================================================\n",
            "Total params: 160051 (625.20 KB)\n",
            "Trainable params: 160051 (625.20 KB)\n",
            "Non-trainable params: 0 (0.00 Byte)\n",
            "_________________________________________________________________\n"
          ]
        }
      ]
    },
    {
      "cell_type": "code",
      "source": [
        "model.compile(loss=tf.keras.losses.SparseCategoricalCrossentropy(from_logits=True),\n",
        "              optimizer='adam',\n",
        "              metrics=[\"accuracy\"])"
      ],
      "metadata": {
        "id": "wcumu0Wpf9W-"
      },
      "execution_count": 21,
      "outputs": []
    },
    {
      "cell_type": "code",
      "source": [
        "epochs = 25\n",
        "r = model.fit(\n",
        "    train_ds,\n",
        "    validation_data=val_ds,\n",
        "    epochs=epochs)"
      ],
      "metadata": {
        "colab": {
          "base_uri": "https://localhost:8080/"
        },
        "id": "CXlkfquYgQoZ",
        "outputId": "ce0ad1ca-b63a-45fa-89f8-5fe98a5a1dff"
      },
      "execution_count": 22,
      "outputs": [
        {
          "output_type": "stream",
          "name": "stdout",
          "text": [
            "Epoch 1/25\n",
            "150/150 [==============================] - 3s 12ms/step - loss: 1.0929 - accuracy: 0.4135 - val_loss: 1.0857 - val_accuracy: 0.4958\n",
            "Epoch 2/25\n",
            "150/150 [==============================] - 1s 6ms/step - loss: 1.0720 - accuracy: 0.5448 - val_loss: 1.0581 - val_accuracy: 0.6067\n",
            "Epoch 3/25\n",
            "150/150 [==============================] - 1s 6ms/step - loss: 1.0346 - accuracy: 0.6146 - val_loss: 1.0148 - val_accuracy: 0.6392\n",
            "Epoch 4/25\n",
            "150/150 [==============================] - 1s 6ms/step - loss: 0.9830 - accuracy: 0.6525 - val_loss: 0.9627 - val_accuracy: 0.6542\n",
            "Epoch 5/25\n",
            "150/150 [==============================] - 1s 6ms/step - loss: 0.9252 - accuracy: 0.6894 - val_loss: 0.9089 - val_accuracy: 0.6758\n",
            "Epoch 6/25\n",
            "150/150 [==============================] - 1s 6ms/step - loss: 0.8686 - accuracy: 0.7198 - val_loss: 0.8584 - val_accuracy: 0.6992\n",
            "Epoch 7/25\n",
            "150/150 [==============================] - 1s 6ms/step - loss: 0.8143 - accuracy: 0.7425 - val_loss: 0.8127 - val_accuracy: 0.7192\n",
            "Epoch 8/25\n",
            "150/150 [==============================] - 1s 8ms/step - loss: 0.7683 - accuracy: 0.7604 - val_loss: 0.7720 - val_accuracy: 0.7342\n",
            "Epoch 9/25\n",
            "150/150 [==============================] - 2s 10ms/step - loss: 0.7236 - accuracy: 0.7821 - val_loss: 0.7360 - val_accuracy: 0.7408\n",
            "Epoch 10/25\n",
            "150/150 [==============================] - 1s 9ms/step - loss: 0.6833 - accuracy: 0.7929 - val_loss: 0.7040 - val_accuracy: 0.7492\n",
            "Epoch 11/25\n",
            "150/150 [==============================] - 1s 6ms/step - loss: 0.6491 - accuracy: 0.8094 - val_loss: 0.6766 - val_accuracy: 0.7583\n",
            "Epoch 12/25\n",
            "150/150 [==============================] - 1s 6ms/step - loss: 0.6171 - accuracy: 0.8171 - val_loss: 0.6522 - val_accuracy: 0.7708\n",
            "Epoch 13/25\n",
            "150/150 [==============================] - 1s 6ms/step - loss: 0.5871 - accuracy: 0.8283 - val_loss: 0.6305 - val_accuracy: 0.7750\n",
            "Epoch 14/25\n",
            "150/150 [==============================] - 1s 6ms/step - loss: 0.5602 - accuracy: 0.8360 - val_loss: 0.6110 - val_accuracy: 0.7783\n",
            "Epoch 15/25\n",
            "150/150 [==============================] - 1s 6ms/step - loss: 0.5375 - accuracy: 0.8415 - val_loss: 0.5941 - val_accuracy: 0.7842\n",
            "Epoch 16/25\n",
            "150/150 [==============================] - 1s 6ms/step - loss: 0.5118 - accuracy: 0.8500 - val_loss: 0.5789 - val_accuracy: 0.7842\n",
            "Epoch 17/25\n",
            "150/150 [==============================] - 1s 6ms/step - loss: 0.4941 - accuracy: 0.8575 - val_loss: 0.5652 - val_accuracy: 0.7917\n",
            "Epoch 18/25\n",
            "150/150 [==============================] - 1s 6ms/step - loss: 0.4741 - accuracy: 0.8667 - val_loss: 0.5529 - val_accuracy: 0.7892\n",
            "Epoch 19/25\n",
            "150/150 [==============================] - 1s 9ms/step - loss: 0.4556 - accuracy: 0.8681 - val_loss: 0.5417 - val_accuracy: 0.7950\n",
            "Epoch 20/25\n",
            "150/150 [==============================] - 1s 6ms/step - loss: 0.4383 - accuracy: 0.8756 - val_loss: 0.5314 - val_accuracy: 0.7975\n",
            "Epoch 21/25\n",
            "150/150 [==============================] - 1s 6ms/step - loss: 0.4201 - accuracy: 0.8848 - val_loss: 0.5227 - val_accuracy: 0.7983\n",
            "Epoch 22/25\n",
            "150/150 [==============================] - 1s 6ms/step - loss: 0.4057 - accuracy: 0.8929 - val_loss: 0.5140 - val_accuracy: 0.8000\n",
            "Epoch 23/25\n",
            "150/150 [==============================] - 1s 6ms/step - loss: 0.3918 - accuracy: 0.8921 - val_loss: 0.5067 - val_accuracy: 0.7992\n",
            "Epoch 24/25\n",
            "150/150 [==============================] - 1s 6ms/step - loss: 0.3768 - accuracy: 0.8973 - val_loss: 0.4994 - val_accuracy: 0.8033\n",
            "Epoch 25/25\n",
            "150/150 [==============================] - 1s 6ms/step - loss: 0.3640 - accuracy: 0.8988 - val_loss: 0.4936 - val_accuracy: 0.8033\n"
          ]
        }
      ]
    },
    {
      "cell_type": "code",
      "source": [
        "loss, accuracy = model.evaluate(test_ds)\n",
        "\n",
        "print(\"Loss: \", loss)\n",
        "print(\"Accuracy: \", accuracy)"
      ],
      "metadata": {
        "colab": {
          "base_uri": "https://localhost:8080/"
        },
        "id": "sP2iAVcsgfRj",
        "outputId": "840cae87-c489-46a1-dd51-0c891ba53359"
      },
      "execution_count": 23,
      "outputs": [
        {
          "output_type": "stream",
          "name": "stdout",
          "text": [
            "188/188 [==============================] - 1s 4ms/step - loss: 0.5055 - accuracy: 0.8032\n",
            "Loss:  0.5054749846458435\n",
            "Accuracy:  0.8031666874885559\n"
          ]
        }
      ]
    },
    {
      "cell_type": "code",
      "source": [
        "history_dict = r.history\n",
        "history_dict.keys()"
      ],
      "metadata": {
        "colab": {
          "base_uri": "https://localhost:8080/"
        },
        "id": "PkiU55Sdgtht",
        "outputId": "873ef802-db38-418a-e959-43b71da875a5"
      },
      "execution_count": 24,
      "outputs": [
        {
          "output_type": "execute_result",
          "data": {
            "text/plain": [
              "dict_keys(['loss', 'accuracy', 'val_loss', 'val_accuracy'])"
            ]
          },
          "metadata": {},
          "execution_count": 24
        }
      ]
    },
    {
      "cell_type": "code",
      "source": [
        "plt.plot(r.history['loss'], label='loss')\n",
        "plt.plot(r.history['val_loss'], label='val_loss')\n",
        "plt.legend();"
      ],
      "metadata": {
        "colab": {
          "base_uri": "https://localhost:8080/",
          "height": 430
        },
        "id": "VW6I0nj1g07f",
        "outputId": "e4eee5c1-5f3d-47eb-da41-2e8894c4da9d"
      },
      "execution_count": 25,
      "outputs": [
        {
          "output_type": "display_data",
          "data": {
            "text/plain": [
              "<Figure size 640x480 with 1 Axes>"
            ],
            "image/png": "[encoded data removed]"
          },
          "metadata": {}
        }
      ]
    },
    {
      "cell_type": "code",
      "source": [
        "plt.plot(r.history['accuracy'], label = \"acc\")\n",
        "plt.plot(r.history['val_accuracy'], label = \"val_acc\")\n",
        "plt.legend();"
      ],
      "metadata": {
        "colab": {
          "base_uri": "https://localhost:8080/",
          "height": 430
        },
        "id": "2KbTqtCuhc-f",
        "outputId": "57bcabad-f1f8-446e-aa47-6fb0481c61af"
      },
      "execution_count": 26,
      "outputs": [
        {
          "output_type": "display_data",
          "data": {
            "text/plain": [
              "<Figure size 640x480 with 1 Axes>"
            ],
            "image/png": "[encoded data removed]"
          },
          "metadata": {}
        }
      ]
    },
    {
      "cell_type": "code",
      "source": [
        "export_model = tf.keras.Sequential([\n",
        "  vectorize_layer,\n",
        "  model,\n",
        "  layers.Activation('sigmoid')\n",
        "])\n",
        "\n",
        "export_model.compile(\n",
        "    loss=tf.keras.losses.SparseCategoricalCrossentropy(from_logits=True),\n",
        "    optimizer=\"adam\",\n",
        "    metrics=['accuracy']\n",
        ")\n",
        "\n",
        "# Test it with `raw_test_ds`, which yields raw strings\n",
        "loss, accuracy = export_model.evaluate(raw_test_ds)\n",
        "print(accuracy)"
      ],
      "metadata": {
        "colab": {
          "base_uri": "https://localhost:8080/"
        },
        "id": "fh14ZD54l1cB",
        "outputId": "3432e122-0cd7-4dfb-b36e-5a6868c6cf0e"
      },
      "execution_count": 27,
      "outputs": [
        {
          "output_type": "stream",
          "name": "stderr",
          "text": [
            "/usr/local/lib/python3.10/dist-packages/keras/src/backend.py:5727: UserWarning: \"`sparse_categorical_crossentropy` received `from_logits=True`, but the `output` argument was produced by a Softmax activation and thus does not represent logits. Was this intended?\n",
            "  output, from_logits = _get_logits(\n"
          ]
        },
        {
          "output_type": "stream",
          "name": "stdout",
          "text": [
            "188/188 [==============================] - 1s 5ms/step - loss: 0.5055 - accuracy: 0.8032\n",
            "0.8031666874885559\n"
          ]
        }
      ]
    },
    {
      "cell_type": "code",
      "source": [
        "labels = [\"Csharp\", \"Java\", \"Python\"]\n",
        "examples = [\n",
        "  \"Why can't this generic method return concrete class that implements it's interface?\",\n",
        "  \"What I wish I had known about single page applications?\",\n",
        "  \"Restsharp 110.2 returns 401 with Basic Authentication\",\n",
        "  \"Im having trouble with open cv2, im still learning but i keep getting stuck in the imshow function\",\n",
        "]\n",
        "\n",
        "answers = export_model.predict(examples)\n",
        "print(answers)\n",
        "for i in range(0,len(examples)):\n",
        "  label = np.argmax(answers[i])\n",
        "  print(labels[label])"
      ],
      "metadata": {
        "colab": {
          "base_uri": "https://localhost:8080/"
        },
        "id": "CgEdEDLDm587",
        "outputId": "1f999815-4d2b-4a3e-f8ec-40f1fdc627b5"
      },
      "execution_count": 28,
      "outputs": [
        {
          "output_type": "stream",
          "name": "stdout",
          "text": [
            "1/1 [==============================] - 0s 137ms/step\n",
            "[[0.5944403  0.6574719  0.28684664]\n",
            " [0.5738939  0.52254957 0.41169068]\n",
            " [0.5486597  0.49084464 0.46480483]\n",
            " [0.49763307 0.41060677 0.5985944 ]]\n",
            "Java\n",
            "Csharp\n",
            "Csharp\n",
            "Python\n"
          ]
        }
      ]
    },
    {
      "cell_type": "code",
      "source": [
        "export_model.save('./NLP-model')\n",
        "!tar -czf ./NLP-model.tar.gz ./NLP-model"
      ],
      "metadata": {
        "id": "Wt2CEkX295Kc"
      },
      "execution_count": 29,
      "outputs": []
    },
    {
      "cell_type": "code",
      "source": [
        "predictions = export_model.predict(raw_test_ds)\n",
        "\n",
        "predicted_labels = np.argmax(predictions, axis=-1)\n",
        "\n",
        "actual_labels = []\n",
        "for _, label in raw_test_ds:\n",
        "  actual_labels.extend(label.numpy())\n",
        "\n",
        "# Compute the confusion matrix\n",
        "confusion_mtx = tf.math.confusion_matrix(actual_labels, predicted_labels).numpy()\n",
        "\n",
        "# Print the confusion matrix\n",
        "print(confusion_mtx)\n",
        "\n",
        "# Plot the confusion matrix\n",
        "plt.figure(figsize=(10,7))\n",
        "sns.heatmap(confusion_mtx, annot=True, fmt='d')\n",
        "plt.xlabel('Predicted')\n",
        "plt.ylabel('Truth')\n",
        "plt.show()\n"
      ],
      "metadata": {
        "colab": {
          "base_uri": "https://localhost:8080/",
          "height": 700
        },
        "id": "tDVqUNiuolRx",
        "outputId": "807c9552-448f-464b-995c-80f6053abdc3"
      },
      "execution_count": 30,
      "outputs": [
        {
          "output_type": "stream",
          "name": "stdout",
          "text": [
            "188/188 [==============================] - 2s 8ms/step\n",
            "[[697 581 722]\n",
            " [620 639 741]\n",
            " [663 616 721]]\n"
          ]
        },
        {
          "output_type": "display_data",
          "data": {
            "text/plain": [
              "<Figure size 1000x700 with 2 Axes>"
            ],
            "image/png": "[encoded data removed]"
          },
          "metadata": {}
        }
      ]
    }
  ]
}