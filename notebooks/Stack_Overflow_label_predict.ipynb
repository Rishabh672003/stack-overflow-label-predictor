{
  "nbformat": 4,
  "nbformat_minor": 0,
  "metadata": {
    "colab": {
      "provenance": [],
      "authorship_tag": "ABX9TyOd9VvIwHWtUG8kkQXjDFpJ",
      "include_colab_link": true
    },
    "kernelspec": {
      "name": "python3",
      "display_name": "Python 3"
    },
    "language_info": {
      "name": "python"
    }
  },
  "cells": [
    {
      "cell_type": "markdown",
      "metadata": {
        "id": "view-in-github",
        "colab_type": "text"
      },
      "source": [
        "<a href=\"https://colab.research.google.com/github/Rishabh672003/stack-overflow-label-predictor/blob/main/Stack_Overflow_label_predict.ipynb\" target=\"_parent\"><img src=\"https://colab.research.google.com/assets/colab-badge.svg\" alt=\"Open In Colab\"/></a>"
      ]
    },
    {
      "cell_type": "markdown",
      "source": [
        "# Programming question's Language Classifier\n",
        "\n",
        "Most forums and programming platform have tags to classify questions, Many sites leave this for user asking question to do manually, but we can also this with the help of AI.\n",
        "\n",
        "Thats what this model is supposed to do, classify the question asked by the user by programming languages."
      ],
      "metadata": {
        "id": "0yBKdbHyOqyp"
      }
    },
    {
      "cell_type": "code",
      "source": [
        "import matplotlib.pyplot as plt\n",
        "import os\n",
        "import re\n",
        "import shutil\n",
        "import string\n",
        "import tensorflow as tf\n",
        "import numpy as np\n",
        "from sklearn.metrics import confusion_matrix\n",
        "import seaborn as sns\n",
        "\n",
        "from tensorflow.keras import layers\n",
        "from tensorflow.keras import losses"
      ],
      "metadata": {
        "id": "8hIkCm9RbPpf"
      },
      "execution_count": 3,
      "outputs": []
    },
    {
      "cell_type": "markdown",
      "source": [
        "## Dataset\n",
        "\n",
        "The dataset we have used is of StackOverflow which is a popular site to ask questions\n",
        "\n",
        "The dataset has questions for 4 languages -\n",
        "1. Csharp\n",
        "2. Java\n",
        "4. Python\n",
        "\n",
        "Each language has around 2000 question in training Set and also 2000 in testing set"
      ],
      "metadata": {
        "id": "8TU6NWaMQ1cr"
      }
    },
    {
      "cell_type": "code",
      "source": [
        "url = \"https://github.com/Rishabh672003/stack-overflow-label-predictor/raw/main/stack_overflow_16k-full.tar.gz\"\n",
        "\n",
        "dataset = tf.keras.utils.get_file(\"stack_overflow_16k-full\", url,\n",
        "                                    untar=True, cache_dir='.',\n",
        "                                    cache_subdir='')\n",
        "\n",
        "dataset_dir = os.path.join(os.path.dirname(dataset), 'stack_overflow_16k-full')"
      ],
      "metadata": {
        "id": "0c3CR4HlbS8p"
      },
      "execution_count": 4,
      "outputs": []
    },
    {
      "cell_type": "code",
      "source": [
        "os.listdir(dataset_dir)"
      ],
      "metadata": {
        "colab": {
          "base_uri": "https://localhost:8080/"
        },
        "id": "Cy9v07Yxb4VU",
        "outputId": "f363bc5f-c51d-415a-9d06-ab864ad12eb0"
      },
      "execution_count": 5,
      "outputs": [
        {
          "output_type": "execute_result",
          "data": {
            "text/plain": [
              "['train', 'test', 'README.md']"
            ]
          },
          "metadata": {},
          "execution_count": 5
        }
      ]
    },
    {
      "cell_type": "code",
      "source": [
        "train_dir = os.path.join(dataset_dir, 'train')\n",
        "os.listdir(train_dir)"
      ],
      "metadata": {
        "colab": {
          "base_uri": "https://localhost:8080/"
        },
        "id": "tFvdET1Ib_Qo",
        "outputId": "9a055825-0a44-4434-b36f-092e0ef0e991"
      },
      "execution_count": 6,
      "outputs": [
        {
          "output_type": "execute_result",
          "data": {
            "text/plain": [
              "['java', 'csharp', 'python', 'javascript']"
            ]
          },
          "metadata": {},
          "execution_count": 6
        }
      ]
    },
    {
      "cell_type": "code",
      "source": [
        "sample_file = os.path.join(train_dir, 'csharp/1.txt')\n",
        "with open(sample_file) as f:\n",
        "  print(f.read())"
      ],
      "metadata": {
        "colab": {
          "base_uri": "https://localhost:8080/"
        },
        "id": "3XlgNYaTdVMz",
        "outputId": "96c1c0e1-864d-4275-accc-18dd28dbd1a5"
      },
      "execution_count": 7,
      "outputs": [
        {
          "output_type": "stream",
          "name": "stdout",
          "text": [
            "\"get the y axis height of webbrowser control document i am trying to get the height of a document in a web browser control...at the moment i'm using the code below but it always returns 622 and i know my documents are all different sizes...private void webcomparesql_documentcompleted(object sender, webbrowserdocumentcompletedeventargs e).        {.            htmldocument htmldoc = webcomparesql.document;.           int scrollhight = htmldoc.window.position.y;.        }...can someone please show me the right way to do this?\"\n",
            "\n"
          ]
        }
      ]
    },
    {
      "cell_type": "markdown",
      "source": [
        "### We use `tf.keras.utils.text_dataset_from_directory` to load dataset from the directory and split 20% for validation"
      ],
      "metadata": {
        "id": "EcJTJ9OjRCqK"
      }
    },
    {
      "cell_type": "code",
      "source": [
        "batch_size = 32\n",
        "seed = 42\n",
        "\n",
        "# This is for training dataset\n",
        "raw_train_ds = tf.keras.utils.text_dataset_from_directory(\n",
        "    'stack_overflow_16k-full/train',\n",
        "    batch_size=batch_size,\n",
        "    validation_split=0.2,\n",
        "    subset='training',\n",
        "    seed=seed)\n",
        "raw_train_ds"
      ],
      "metadata": {
        "colab": {
          "base_uri": "https://localhost:8080/"
        },
        "id": "27RgWSEpdsUa",
        "outputId": "04470723-6f03-42e8-e29e-17c63a94a9a4"
      },
      "execution_count": 8,
      "outputs": [
        {
          "output_type": "stream",
          "name": "stdout",
          "text": [
            "Found 8000 files belonging to 4 classes.\n",
            "Using 6400 files for training.\n"
          ]
        },
        {
          "output_type": "execute_result",
          "data": {
            "text/plain": [
              "<_BatchDataset element_spec=(TensorSpec(shape=(None,), dtype=tf.string, name=None), TensorSpec(shape=(None,), dtype=tf.int32, name=None))>"
            ]
          },
          "metadata": {},
          "execution_count": 8
        }
      ]
    },
    {
      "cell_type": "code",
      "source": [
        "for text_batch, label_batch in raw_train_ds.take(1):\n",
        "  for i in range(4):\n",
        "    print(\"Question\", text_batch.numpy()[i])\n",
        "    print(\"Label\", label_batch.numpy()[i])"
      ],
      "metadata": {
        "colab": {
          "base_uri": "https://localhost:8080/"
        },
        "id": "r3Ssdtd-dwLU",
        "outputId": "8a9e1fa6-e626-470f-a8e1-ebac616bdf00"
      },
      "execution_count": 9,
      "outputs": [
        {
          "output_type": "stream",
          "name": "stdout",
          "text": [
            "Question b'\"my tester is going to the wrong constructor i am new to programming so if i ask a question that can be easily fixed, please forgive me. my program has a tester class with a main. when i send that to my regularpolygon class, it sends it to the wrong constructor. i have two constructors. 1 without perameters..public regularpolygon().    {.       mynumsides = 5;.       mysidelength = 30;.    }//end default constructor...and my second, with perameters. ..public regularpolygon(int numsides, double sidelength).    {.        mynumsides = numsides;.        mysidelength = sidelength;.    }// end constructor...in my tester class i have these two lines:..regularpolygon shape = new regularpolygon(numsides, sidelength);.        shape.menu();...numsides and sidelength were declared and initialized earlier in the testing class...so what i want to happen, is the tester class sends numsides and sidelength to the second constructor and use it in that class. but it only uses the default constructor, which therefor ruins the whole rest of the program. can somebody help me?..for those of you who want to see more of my code: here you go..public double vertexangle().    {.        system.out.println(\"\"the vertex angle method: \"\" + mynumsides);// prints out 5.        system.out.println(\"\"the vertex angle method: \"\" + mysidelength); // prints out 30..        double vertexangle;.        vertexangle = ((mynumsides - 2.0) / mynumsides) * 180.0;.        return vertexangle;.    }//end method vertexangle..public void menu().{.    system.out.println(mynumsides); // prints out what the user puts in.    system.out.println(mysidelength); // prints out what the user puts in.    gotographic();.    calcr(mynumsides, mysidelength);.    calcr(mynumsides, mysidelength);.    print(); .}// end menu...this is my entire tester class:..public static void main(string[] arg).{.    int numsides;.    double sidelength;.    scanner keyboard = new scanner(system.in);..    system.out.println(\"\"welcome to the regular polygon program!\"\");.    system.out.println();..    system.out.print(\"\"enter the number of sides of the polygon ==&gt; \"\");.    numsides = keyboard.nextint();.    system.out.println();..    system.out.print(\"\"enter the side length of each side ==&gt; \"\");.    sidelength = keyboard.nextdouble();.    system.out.println();..    regularpolygon shape = new regularpolygon(numsides, sidelength);.    shape.menu();.}//end main...for testing it i sent it numsides 4 and sidelength 100.\"\\n'\n",
            "Label 1\n",
            "Question b'\"blank code slow skin detection this code changes the color space to lab and using a threshold finds the skin area of an image. but it\\'s ridiculously slow. i don\\'t know how to make it faster ?    ..from colormath.color_objects import *..def skindetection(img, treshold=80, color=[255,20,147]):..    print img.shape.    res=img.copy().    for x in range(img.shape[0]):.        for y in range(img.shape[1]):.            rgbimg=rgbcolor(img[x,y,0],img[x,y,1],img[x,y,2]).            labimg=rgbimg.convert_to(\\'lab\\', debug=false).            if (labimg.lab_l &gt; treshold):.                res[x,y,:]=color.            else: .                res[x,y,:]=img[x,y,:]..    return res\"\\n'\n",
            "Label 3\n",
            "Question b'\"option and validation in blank i want to add a new option on my system where i want to add two text files, both rental.txt and customer.txt. inside each text are id numbers of the customer, the videotape they need and the price...i want to place it as an option on my code. right now i have:...add customer.rent return.view list.search.exit...i want to add this as my sixth option. say for example i ordered a video, it would display the price and would let me confirm the price and if i am going to buy it or not...here is my current code:..  import blank.io.*;.    import blank.util.arraylist;.    import static blank.lang.system.out;..    public class rentalsystem{.    static bufferedreader input = new bufferedreader(new inputstreamreader(system.in));.    static file file = new file(\"\"file.txt\"\");.    static arraylist&lt;string&gt; list = new arraylist&lt;string&gt;();.    static int rows;..    public static void main(string[] args) throws exception{.        introduction();.        system.out.print(\"\"nn\"\");.        login();.        system.out.print(\"\"nnnnnnnnnnnnnnnnnnnnnn\"\");.        introduction();.        string repeat;.        do{.            loadfile();.            system.out.print(\"\"nwhat do you want to do?nn\"\");.            system.out.print(\"\"n                    - - - - - - - - - - - - - - - - - - - - - - -\"\");.            system.out.print(\"\"nn                    |     1. add customer    |   2. rent return |n\"\");.            system.out.print(\"\"n                    - - - - - - - - - - - - - - - - - - - - - - -\"\");.            system.out.print(\"\"nn                    |     3. view list       |   4. search      |n\"\");.            system.out.print(\"\"n                    - - - - - - - - - - - - - - - - - - - - - - -\"\");.            system.out.print(\"\"nn                                             |   5. exit        |n\"\");.            system.out.print(\"\"n                                              - - - - - - - - - -\"\");.            system.out.print(\"\"nnchoice:\"\");.            int choice = integer.parseint(input.readline());.            switch(choice){.                case 1:.                    writedata();.                    break;.                case 2:.                    rentdata();.                    break;.                case 3:.                    viewlist();.                    break;.                case 4:.                    search();.                    break;.                case 5:.                    system.out.println(\"\"goodbye!\"\");.                    system.exit(0);.                default:.                    system.out.print(\"\"invalid choice: \"\");.                    break;.            }.            system.out.print(\"\"ndo another task? [y/n] \"\");.            repeat = input.readline();.        }while(repeat.equals(\"\"y\"\"));..        if(repeat!=\"\"y\"\") system.out.println(\"\"ngoodbye!\"\");..    }..    public static void writedata() throws exception{.        system.out.print(\"\"nname: \"\");.        string cname = input.readline();.        system.out.print(\"\"address: \"\");.        string add = input.readline();.        system.out.print(\"\"phone no.: \"\");.        string pno = input.readline();.        system.out.print(\"\"rental amount: \"\");.        string ramount = input.readline();.        system.out.print(\"\"tapenumber: \"\");.        string tno = input.readline();.        system.out.print(\"\"title: \"\");.        string title = input.readline();.        system.out.print(\"\"date borrowed: \"\");.        string dborrowed = input.readline();.        system.out.print(\"\"due date: \"\");.        string ddate = input.readline();.        createline(cname, add, pno, ramount,tno, title, dborrowed, ddate);.        rentdata();.    }..    public static void createline(string name, string address, string phone , string rental, string tapenumber, string title, string borrowed, string due) throws exception{.        filewriter fw = new filewriter(file, true);.        fw.write(\"\"nname: \"\"+name + \"\"naddress: \"\" + address +\"\"nphone no.: \"\"+ phone+\"\"nrentalamount: \"\"+rental+\"\"ntape no.: \"\"+ tapenumber+\"\"ntitle: \"\"+ title+\"\"ndate borrowed: \"\"+borrowed +\"\"ndue date: \"\"+ due+\"\":rn\"\");.        fw.close();.    }..    public static void loadfile() throws exception{.        try{.            list.clear();.            fileinputstream fstream = new fileinputstream(file);.            bufferedreader br = new bufferedreader(new inputstreamreader(fstream));.            rows = 0;.            while( br.ready()).            {.                list.add(br.readline());.                rows++;.            }.            br.close();.        } catch(exception e){.            system.out.println(\"\"list not yet loaded.\"\");.        }.    }..    public static void viewlist(){.        system.out.print(\"\"n~ ~ ~ ~ ~ ~ ~ ~ ~ ~ ~\"\");.        system.out.print(\"\" |list of all costumers|\"\");.        system.out.print(\"\"~ ~ ~ ~ ~ ~ ~ ~ ~ ~ ~\"\");.        for(int i = 0; i &lt;rows; i++){.            system.out.println(list.get(i));.        }.    }.        public static void rentdata()throws exception.    {   system.out.print(\"\"n~ ~ ~ ~ ~ ~ ~ ~ ~ ~ ~\"\");.        system.out.print(\"\" |rent data list|\"\");.        system.out.print(\"\"~ ~ ~ ~ ~ ~ ~ ~ ~ ~ ~\"\");.        system.out.print(\"\"nenter customer name: \"\");.        string cname = input.readline();.        system.out.print(\"\"date borrowed: \"\");.        string dborrowed = input.readline();.        system.out.print(\"\"due date: \"\");.        string ddate = input.readline();.        system.out.print(\"\"return date: \"\");.        string rdate = input.readline();.        system.out.print(\"\"rent amount: \"\");.        string ramount = input.readline();..        system.out.print(\"\"you pay:\"\"+ramount);...    }.    public static void search()throws exception.    {   system.out.print(\"\"n~ ~ ~ ~ ~ ~ ~ ~ ~ ~ ~\"\");.        system.out.print(\"\" |search costumers|\"\");.        system.out.print(\"\"~ ~ ~ ~ ~ ~ ~ ~ ~ ~ ~\"\");.        system.out.print(\"\"nenter costumer name: \"\");.        string cname = input.readline();.        boolean found = false;..        for(int i=0; i &lt; rows; i++){.            string temp[] = list.get(i).split(\"\",\"\");..            if(cname.equals(temp[0])){.            system.out.println(\"\"search result:nyou are \"\" + temp[0] + \"\" from \"\" + temp[1] + \"\".\"\"+ temp[2] + \"\".\"\"+ temp[3] + \"\".\"\"+ temp[4] + \"\".\"\"+ temp[5] + \"\" is \"\" + temp[6] + \"\".\"\"+ temp[7] + \"\" is \"\" + temp[8] + \"\".\"\");.                found = true;.            }.        }..        if(!found){.            system.out.print(\"\"no results.\"\");.        }..    }..        public static boolean evaluate(string uname, string pass){.        if (uname.equals(\"\"admin\"\")&amp;&amp;pass.equals(\"\"12345\"\")) return true;.        else return false;.    }..    public static string login()throws exception{.        bufferedreader input=new bufferedreader(new inputstreamreader(system.in));.        int counter=0;.        do{.            system.out.print(\"\"username:\"\");.            string uname =input.readline();.            system.out.print(\"\"password:\"\");.            string pass =input.readline();..            boolean accept= evaluate(uname,pass);..            if(accept){.                break;.                }else{.                    system.out.println(\"\"incorrect username or password!\"\");.                    counter ++;.                    }.        }while(counter&lt;3);..            if(counter !=3) return \"\"login successful\"\";.            else return \"\"login failed\"\";.            }.        public static void introduction() throws exception{..        system.out.println(\"\"                  - - - - - - - - - - - - - - - - - - - - - - - - -\"\");.        system.out.println(\"\"                  !                  r e n t a l                  !\"\");.        system.out.println(\"\"                   ! ~ ~ ~ ~ ~ !  =================  ! ~ ~ ~ ~ ~ !\"\");.        system.out.println(\"\"                  !                  s y s t e m                  !\"\");.        system.out.println(\"\"                  - - - - - - - - - - - - - - - - - - - - - - - - -\"\");.        }..}\"\\n'\n",
            "Label 1\n",
            "Question b'\"exception: dynamic sql generation for the updatecommand is not supported against a selectcommand that does not return any key i dont know what is the problem this my code : ..string nomtable;..datatable listeetablissementtable = new datatable();.datatable listeinteretstable = new datatable();.dataset ds = new dataset();.sqldataadapter da;.sqlcommandbuilder cmdb;..private void listeinterets_click(object sender, eventargs e).{.    nomtable = \"\"listeinteretstable\"\";.    d.cnx.open();.    da = new sqldataadapter(\"\"select nome from offices\"\", d.cnx);.    ds = new dataset();.    da.fill(ds, nomtable);.    datagridview1.datasource = ds.tables[nomtable];.}..private void sauvgarder_click(object sender, eventargs e).{.    d.cnx.open();.    cmdb = new sqlcommandbuilder(da);.    da.update(ds, nomtable);.    d.cnx.close();.}\"\\n'\n",
            "Label 0\n"
          ]
        }
      ]
    },
    {
      "cell_type": "code",
      "source": [
        "print(\"Label 0 corresponds to\", raw_train_ds.class_names[0])\n",
        "print(\"Label 1 corresponds to\", raw_train_ds.class_names[1])\n",
        "print(\"Label 2 corresponds to\", raw_train_ds.class_names[2])\n",
        "print(\"Label 3 corresponds to\", raw_train_ds.class_names[2])"
      ],
      "metadata": {
        "colab": {
          "base_uri": "https://localhost:8080/"
        },
        "id": "229zB2Nvd-IZ",
        "outputId": "997c811f-8a77-4469-f565-8e3d9c2eae10"
      },
      "execution_count": 10,
      "outputs": [
        {
          "output_type": "stream",
          "name": "stdout",
          "text": [
            "Label 0 corresponds to csharp\n",
            "Label 1 corresponds to java\n",
            "Label 2 corresponds to javascript\n",
            "Label 3 corresponds to javascript\n"
          ]
        }
      ]
    },
    {
      "cell_type": "code",
      "source": [
        "# this is for validation dataset\n",
        "raw_val_ds = tf.keras.utils.text_dataset_from_directory(\n",
        "    'stack_overflow_16k-full/train',\n",
        "    batch_size=batch_size,\n",
        "    validation_split=0.2,\n",
        "    subset='validation',\n",
        "    seed=seed)"
      ],
      "metadata": {
        "colab": {
          "base_uri": "https://localhost:8080/"
        },
        "id": "0knzPB8keJnl",
        "outputId": "3ba3dd23-3613-479b-8e4e-b86d54d4fda2"
      },
      "execution_count": 11,
      "outputs": [
        {
          "output_type": "stream",
          "name": "stdout",
          "text": [
            "Found 8000 files belonging to 4 classes.\n",
            "Using 1600 files for validation.\n"
          ]
        }
      ]
    },
    {
      "cell_type": "code",
      "source": [
        "# This is for testing dataset\n",
        "raw_test_ds = tf.keras.utils.text_dataset_from_directory(\n",
        "    'stack_overflow_16k-full/test',\n",
        "    batch_size=batch_size)"
      ],
      "metadata": {
        "colab": {
          "base_uri": "https://localhost:8080/"
        },
        "id": "PLfM4Ru5eR0i",
        "outputId": "86dcc592-eb41-44b6-e035-ec9b42780b5d"
      },
      "execution_count": 12,
      "outputs": [
        {
          "output_type": "stream",
          "name": "stdout",
          "text": [
            "Found 8000 files belonging to 4 classes.\n"
          ]
        }
      ]
    },
    {
      "cell_type": "markdown",
      "source": [
        "## Prepare the dataset for training\n",
        "\n",
        "Next, we will **standardize**, **tokenize**, and **vectorize** the data using the `tf.keras.layers.TextVectorization` layer.\n",
        "\n",
        "**Standardization** refers to preprocessing the text, typically to **remove punctuation** or **HTML** elements to simplify the dataset.\n",
        "\n",
        "**Tokenization** refers to splitting strings into tokens (for example, splitting a sentence into individual words, by splitting on whitespace).\n",
        "\n",
        "**Vectorization** refers to converting tokens into numbers so they can be fed into a neural network. All of these tasks can be accomplished with this layer."
      ],
      "metadata": {
        "id": "UY-Sg5xNSN78"
      }
    },
    {
      "cell_type": "code",
      "source": [
        "def custom_standardization(input_data):\n",
        "  lowercase = tf.strings.lower(input_data)\n",
        "  stripped_html = tf.strings.regex_replace(lowercase, '<br />', ' ')\n",
        "  return tf.strings.regex_replace(stripped_html,\n",
        "                                  '[%s]' % re.escape(string.punctuation),\n",
        "                                  '')"
      ],
      "metadata": {
        "id": "9G7nXwP3ecHt"
      },
      "execution_count": 13,
      "outputs": []
    },
    {
      "cell_type": "markdown",
      "source": [
        "Next, We will create a **TextVectorization** layer. we will use this layer to standardize, tokenize, and vectorize our data. we set the output_mode to int to create unique integer indices for each token.\n",
        "\n",
        "We're using the default split function, and the custom standardization function we defined above. we'll also define some constants for the model, like an explicit maximum sequence_length, which will cause the layer to pad or truncate sequences to exactly sequence_length values."
      ],
      "metadata": {
        "id": "FQvB7-NZSqY7"
      }
    },
    {
      "cell_type": "code",
      "source": [
        "max_features = 3000\n",
        "sequence_length = 300\n",
        "\n",
        "vectorize_layer = layers.TextVectorization(\n",
        "    standardize=custom_standardization,\n",
        "    max_tokens=max_features,\n",
        "    output_mode='int',\n",
        "    output_sequence_length=sequence_length)"
      ],
      "metadata": {
        "id": "jZQKBEOTegM7"
      },
      "execution_count": 14,
      "outputs": []
    },
    {
      "cell_type": "code",
      "source": [
        "# Make a text-only dataset (without labels), then call adapt\n",
        "train_text = raw_train_ds.map(lambda x, y: x)\n",
        "vectorize_layer.adapt(train_text)"
      ],
      "metadata": {
        "id": "lIwKMlnyUr6c"
      },
      "execution_count": 15,
      "outputs": []
    },
    {
      "cell_type": "markdown",
      "source": [
        "Let's create a function to see the result of using this layer to preprocess some data.\n",
        "\n",
        "And you can see in the output what the vectorization outputs"
      ],
      "metadata": {
        "id": "fFN1yXn0TqiM"
      }
    },
    {
      "cell_type": "code",
      "source": [
        "def vectorize_text(text, label):\n",
        "  text = tf.expand_dims(text, -1)\n",
        "  return vectorize_layer(text), label"
      ],
      "metadata": {
        "id": "Hibc5i_6UPiN"
      },
      "execution_count": 16,
      "outputs": []
    },
    {
      "cell_type": "code",
      "source": [
        "# retrieve a batch (of 32 reviews and labels) from the dataset\n",
        "text_batch, label_batch = next(iter(raw_train_ds))\n",
        "first_review, first_label = text_batch[0], label_batch[0]\n",
        "print(\"Review\", first_review)\n",
        "print(\"Label\", raw_train_ds.class_names[first_label])\n",
        "print(\"Vectorized review\", vectorize_text(first_review, first_label))"
      ],
      "metadata": {
        "colab": {
          "base_uri": "https://localhost:8080/"
        },
        "id": "tkBw5DNdepVV",
        "outputId": "4d964b71-5d18-4f76-f122-be0892d7bdb3"
      },
      "execution_count": 17,
      "outputs": [
        {
          "output_type": "stream",
          "name": "stdout",
          "text": [
            "Review tf.Tensor(b'\"set blank to quit on exception? i\\'m using blank 3..i\\'ve been looking around for an answer to this, but i haven\\'t found it yet. basically, i\\'m running several blank scripts into a game engine, and each script has its own entry point...i\\'d rather not add try: except blocks through all of my code, so i was wondering if it\\'s at all possible to tell blank to quit (or perhaps assign a custom function to that \"\"callback\"\") on finding its first error, regardless of where or what it found? ..currently, the game engine will continue after finding and hitting an error, making it more difficult than necessary to diagnose issues since running into one error may make a subsequent script not work (as it relies on variables that the error-ing script set, for example). any ideas? ..i know that i could redirect the console to a file to allow for easier scrolling, but just capturing the first error and stopping the game prematurely would be really useful...okay, a couple of extra bits of info - sorry for neglecting to say this. the engine i\\'m using (the blender game engine) is coded in c, so changing the source is more than i\\'d like to do.....after googling, it would appear that a similar question with a solid answer has been asked here, which is how to get the last raised exception. if i check the sys module for the presence of the last_value variable and it exists, then i can quit prematurely, as the console would have already printed out the error...thanks for the help.\"\\n', shape=(), dtype=string)\n",
            "Label python\n",
            "Vectorized review (<tf.Tensor: shape=(1, 300), dtype=int64, numpy=\n",
            "array([[ 107,   16,    4, 1139,   37,  184,   52,   47,   16,    1,  215,\n",
            "         417,  518,   12,   32,  182,    4,   13,   26,    3, 1416,  227,\n",
            "          11,  894,  627,   52,  309,  718,   16, 1274,  100,    5,  244,\n",
            "        1826,    8,  119,  224,   95,   97,  657,  858,    1,  797,   20,\n",
            "         125,  117,  559, 2282,  194,   73,    9,   23,   30,   50,    3,\n",
            "         115,  566,   10,   97,   59,   73,  204,    4,  412,   16,    4,\n",
            "        1139,   45, 1670,  601,    5,  694,   38,    4,   14,  851,   37,\n",
            "         967,   97,   98,   65, 2374,    9,  132,   45,   55,   11,  227,\n",
            "         401,    2,  244, 1826,   72,  534,  156,  967,    8,    1,   32,\n",
            "          65,  468,   11,  181, 2332,  198, 1461,    4,    1, 1093,  447,\n",
            "         309,  100,   71,   65,  454,  109,    5,    1,  224,   20,  139,\n",
            "          36,   11,    1,   37,  233,   14,    2,    1,  224,  107,   12,\n",
            "         137,   76,  779,    3,  102,   14,    3,  176, 1853,    2,  332,\n",
            "           4,    5,   39,    4,  787,   12, 1320,    1,   26,  106,    1,\n",
            "           2,   98,   65,    8, 2902,    2,  244,    1,   69,   33,  336,\n",
            "           1,    5, 1759,    9, 1157, 2531,    9,  568,  729,   12,    1,\n",
            "           4,  321,   13,    2, 1826,   52,   47,    2,    1,  244, 1826,\n",
            "           6, 2619,    7,  131,   50,  801,    2,  313,    6,  181,  198,\n",
            "         142,   48,    4,    1,    1,   11,   69,  882,   14,    5,  520,\n",
            "         159,   21,    5, 1706,  182,   95,  215,  912,  101,   66,    6,\n",
            "          24,    4,   41,    2,  218, 2918,  184,   10,    3,  186,    2,\n",
            "        1358,  380,   12,    2,    1,    9,    2,    1,  116,    8,   11,\n",
            "         758,   87,    3,   35, 1139,    1,   36,    2,  332,   69,   17,\n",
            "         334,  986,   94,    2,    1,   12,    2,  104,    0,    0,    0,\n",
            "           0,    0,    0,    0,    0,    0,    0,    0,    0,    0,    0,\n",
            "           0,    0,    0,    0,    0,    0,    0,    0,    0,    0,    0,\n",
            "           0,    0,    0,    0,    0,    0,    0,    0,    0,    0,    0,\n",
            "           0,    0,    0]])>, <tf.Tensor: shape=(), dtype=int32, numpy=3>)\n"
          ]
        }
      ]
    },
    {
      "cell_type": "markdown",
      "source": [
        "The result of our vectorization:"
      ],
      "metadata": {
        "id": "G79xrHexTN9Y"
      }
    },
    {
      "cell_type": "code",
      "source": [
        "print(\"128 ---> \",vectorize_layer.get_vocabulary()[128])\n",
        "print(\" 313 ---> \",vectorize_layer.get_vocabulary()[313])\n",
        "print('Vocabulary size: {}'.format(len(vectorize_layer.get_vocabulary())))"
      ],
      "metadata": {
        "colab": {
          "base_uri": "https://localhost:8080/"
        },
        "id": "rOvRTjLUex5B",
        "outputId": "2faee98a-33e2-43da-9f68-f704c00d8c72"
      },
      "execution_count": 18,
      "outputs": [
        {
          "output_type": "stream",
          "name": "stdout",
          "text": [
            "128 --->  result\n",
            " 313 --->  source\n",
            "Vocabulary size: 3000\n"
          ]
        }
      ]
    },
    {
      "cell_type": "markdown",
      "source": [
        " ### As a final preprocessing step, we will apply the TextVectorization layer we created earlier to the train, validation, and test dataset."
      ],
      "metadata": {
        "id": "I_2K9QiDX3U0"
      }
    },
    {
      "cell_type": "code",
      "source": [
        "train_ds = raw_train_ds.map(vectorize_text)\n",
        "val_ds = raw_val_ds.map(vectorize_text)\n",
        "test_ds = raw_test_ds.map(vectorize_text)"
      ],
      "metadata": {
        "id": "gk29Q_rUe0GX"
      },
      "execution_count": 19,
      "outputs": []
    },
    {
      "cell_type": "markdown",
      "source": [
        "### Some performance optimization\n",
        "\n",
        "`.cache()` keeps data in memory after it's loaded off disk. This will ensure the dataset does not become a bottleneck while training or model. It makes a high performance cache of the dataset\n",
        "\n",
        "`.prefetch()` overlaps data preprocessing and model execution while training."
      ],
      "metadata": {
        "id": "1i1nrtlrYePp"
      }
    },
    {
      "cell_type": "code",
      "source": [
        "AUTOTUNE = tf.data.AUTOTUNE\n",
        "\n",
        "train_ds = train_ds.cache().prefetch(buffer_size=AUTOTUNE)\n",
        "val_ds = val_ds.cache().prefetch(buffer_size=AUTOTUNE)\n",
        "test_ds = test_ds.cache().prefetch(buffer_size=AUTOTUNE)"
      ],
      "metadata": {
        "id": "ndTfcWIbfkwt"
      },
      "execution_count": 20,
      "outputs": []
    },
    {
      "cell_type": "markdown",
      "source": [
        "## Creating the model"
      ],
      "metadata": {
        "id": "a-h6yc5cY_sI"
      }
    },
    {
      "cell_type": "code",
      "source": [
        "embedding_dim = 16\n",
        "model = tf.keras.Sequential([\n",
        "  layers.Embedding(max_features, embedding_dim),\n",
        "  layers.Dropout(0.2),\n",
        "  layers.GlobalAveragePooling1D(),\n",
        "  layers.Dropout(0.2),\n",
        "  layers.Dense(4)\n",
        "])\n",
        "\n",
        "model.summary()"
      ],
      "metadata": {
        "colab": {
          "base_uri": "https://localhost:8080/"
        },
        "id": "sTBDB-ILfrgE",
        "outputId": "79f3b077-f150-4b09-f48a-2920e0354724"
      },
      "execution_count": 21,
      "outputs": [
        {
          "output_type": "stream",
          "name": "stdout",
          "text": [
            "Model: \"sequential\"\n",
            "_________________________________________________________________\n",
            " Layer (type)                Output Shape              Param #   \n",
            "=================================================================\n",
            " embedding (Embedding)       (None, None, 16)          48000     \n",
            "                                                                 \n",
            " dropout (Dropout)           (None, None, 16)          0         \n",
            "                                                                 \n",
            " global_average_pooling1d (  (None, 16)                0         \n",
            " GlobalAveragePooling1D)                                         \n",
            "                                                                 \n",
            " dropout_1 (Dropout)         (None, 16)                0         \n",
            "                                                                 \n",
            " dense (Dense)               (None, 4)                 68        \n",
            "                                                                 \n",
            "=================================================================\n",
            "Total params: 48068 (187.77 KB)\n",
            "Trainable params: 48068 (187.77 KB)\n",
            "Non-trainable params: 0 (0.00 Byte)\n",
            "_________________________________________________________________\n"
          ]
        }
      ]
    },
    {
      "cell_type": "code",
      "source": [
        "model.compile(loss=tf.keras.losses.SparseCategoricalCrossentropy(from_logits=True),\n",
        "              optimizer='adam',\n",
        "              metrics=[\"accuracy\"])"
      ],
      "metadata": {
        "id": "wcumu0Wpf9W-"
      },
      "execution_count": 22,
      "outputs": []
    },
    {
      "cell_type": "code",
      "source": [
        "epochs = 50\n",
        "callback = tf.keras.callbacks.EarlyStopping(monitor='val_accuracy', verbose = 1, patience=5, restore_best_weights=True)\n",
        "r = model.fit(\n",
        "    train_ds,\n",
        "    validation_data=val_ds,\n",
        "    callbacks=[callback],\n",
        "    epochs=epochs)"
      ],
      "metadata": {
        "colab": {
          "base_uri": "https://localhost:8080/"
        },
        "id": "CXlkfquYgQoZ",
        "outputId": "f78ecca6-2b1b-4d62-e60b-a900fe6902c4"
      },
      "execution_count": 23,
      "outputs": [
        {
          "output_type": "stream",
          "name": "stdout",
          "text": [
            "Epoch 1/50\n",
            "200/200 [==============================] - 2s 7ms/step - loss: 1.3807 - accuracy: 0.3142 - val_loss: 1.3727 - val_accuracy: 0.4450\n",
            "Epoch 2/50\n",
            "200/200 [==============================] - 1s 4ms/step - loss: 1.3618 - accuracy: 0.4212 - val_loss: 1.3466 - val_accuracy: 0.4950\n",
            "Epoch 3/50\n",
            "200/200 [==============================] - 1s 4ms/step - loss: 1.3273 - accuracy: 0.4894 - val_loss: 1.3044 - val_accuracy: 0.5431\n",
            "Epoch 4/50\n",
            "200/200 [==============================] - 1s 6ms/step - loss: 1.2780 - accuracy: 0.5348 - val_loss: 1.2487 - val_accuracy: 0.5831\n",
            "Epoch 5/50\n",
            "200/200 [==============================] - 1s 4ms/step - loss: 1.2178 - accuracy: 0.5733 - val_loss: 1.1853 - val_accuracy: 0.6250\n",
            "Epoch 6/50\n",
            "200/200 [==============================] - 1s 4ms/step - loss: 1.1519 - accuracy: 0.6122 - val_loss: 1.1204 - val_accuracy: 0.6637\n",
            "Epoch 7/50\n",
            "200/200 [==============================] - 1s 4ms/step - loss: 1.0914 - accuracy: 0.6498 - val_loss: 1.0595 - val_accuracy: 0.6837\n",
            "Epoch 8/50\n",
            "200/200 [==============================] - 1s 4ms/step - loss: 1.0303 - accuracy: 0.6770 - val_loss: 1.0033 - val_accuracy: 0.7050\n",
            "Epoch 9/50\n",
            "200/200 [==============================] - 2s 8ms/step - loss: 0.9774 - accuracy: 0.6992 - val_loss: 0.9530 - val_accuracy: 0.7225\n",
            "Epoch 10/50\n",
            "200/200 [==============================] - 1s 4ms/step - loss: 0.9277 - accuracy: 0.7186 - val_loss: 0.9080 - val_accuracy: 0.7337\n",
            "Epoch 11/50\n",
            "200/200 [==============================] - 1s 4ms/step - loss: 0.8858 - accuracy: 0.7306 - val_loss: 0.8673 - val_accuracy: 0.7394\n",
            "Epoch 12/50\n",
            "200/200 [==============================] - 1s 4ms/step - loss: 0.8439 - accuracy: 0.7423 - val_loss: 0.8322 - val_accuracy: 0.7525\n",
            "Epoch 13/50\n",
            "200/200 [==============================] - 1s 6ms/step - loss: 0.8110 - accuracy: 0.7473 - val_loss: 0.8012 - val_accuracy: 0.7594\n",
            "Epoch 14/50\n",
            "200/200 [==============================] - 1s 4ms/step - loss: 0.7779 - accuracy: 0.7573 - val_loss: 0.7729 - val_accuracy: 0.7638\n",
            "Epoch 15/50\n",
            "200/200 [==============================] - 1s 4ms/step - loss: 0.7498 - accuracy: 0.7702 - val_loss: 0.7482 - val_accuracy: 0.7719\n",
            "Epoch 16/50\n",
            "200/200 [==============================] - 1s 4ms/step - loss: 0.7243 - accuracy: 0.7750 - val_loss: 0.7251 - val_accuracy: 0.7825\n",
            "Epoch 17/50\n",
            "200/200 [==============================] - 1s 4ms/step - loss: 0.7000 - accuracy: 0.7794 - val_loss: 0.7049 - val_accuracy: 0.7806\n",
            "Epoch 18/50\n",
            "200/200 [==============================] - 1s 4ms/step - loss: 0.6782 - accuracy: 0.7869 - val_loss: 0.6872 - val_accuracy: 0.7856\n",
            "Epoch 19/50\n",
            "200/200 [==============================] - 1s 4ms/step - loss: 0.6588 - accuracy: 0.7902 - val_loss: 0.6696 - val_accuracy: 0.7850\n",
            "Epoch 20/50\n",
            "200/200 [==============================] - 1s 4ms/step - loss: 0.6374 - accuracy: 0.7991 - val_loss: 0.6538 - val_accuracy: 0.7869\n",
            "Epoch 21/50\n",
            "200/200 [==============================] - 1s 4ms/step - loss: 0.6201 - accuracy: 0.8034 - val_loss: 0.6408 - val_accuracy: 0.7900\n",
            "Epoch 22/50\n",
            "200/200 [==============================] - 1s 4ms/step - loss: 0.6033 - accuracy: 0.8086 - val_loss: 0.6286 - val_accuracy: 0.7925\n",
            "Epoch 23/50\n",
            "200/200 [==============================] - 1s 6ms/step - loss: 0.5893 - accuracy: 0.8111 - val_loss: 0.6156 - val_accuracy: 0.7925\n",
            "Epoch 24/50\n",
            "200/200 [==============================] - 1s 4ms/step - loss: 0.5743 - accuracy: 0.8123 - val_loss: 0.6047 - val_accuracy: 0.7950\n",
            "Epoch 25/50\n",
            "200/200 [==============================] - 1s 3ms/step - loss: 0.5588 - accuracy: 0.8202 - val_loss: 0.5947 - val_accuracy: 0.7969\n",
            "Epoch 26/50\n",
            "200/200 [==============================] - 1s 4ms/step - loss: 0.5465 - accuracy: 0.8233 - val_loss: 0.5854 - val_accuracy: 0.7987\n",
            "Epoch 27/50\n",
            "200/200 [==============================] - 1s 4ms/step - loss: 0.5362 - accuracy: 0.8317 - val_loss: 0.5770 - val_accuracy: 0.7975\n",
            "Epoch 28/50\n",
            "200/200 [==============================] - 1s 4ms/step - loss: 0.5227 - accuracy: 0.8364 - val_loss: 0.5698 - val_accuracy: 0.7994\n",
            "Epoch 29/50\n",
            "200/200 [==============================] - 1s 4ms/step - loss: 0.5124 - accuracy: 0.8348 - val_loss: 0.5615 - val_accuracy: 0.8031\n",
            "Epoch 30/50\n",
            "200/200 [==============================] - 1s 4ms/step - loss: 0.4992 - accuracy: 0.8408 - val_loss: 0.5551 - val_accuracy: 0.8000\n",
            "Epoch 31/50\n",
            "200/200 [==============================] - 1s 4ms/step - loss: 0.4905 - accuracy: 0.8452 - val_loss: 0.5481 - val_accuracy: 0.8056\n",
            "Epoch 32/50\n",
            "200/200 [==============================] - 1s 4ms/step - loss: 0.4762 - accuracy: 0.8498 - val_loss: 0.5426 - val_accuracy: 0.8106\n",
            "Epoch 33/50\n",
            "200/200 [==============================] - 1s 5ms/step - loss: 0.4690 - accuracy: 0.8516 - val_loss: 0.5369 - val_accuracy: 0.8106\n",
            "Epoch 34/50\n",
            "200/200 [==============================] - 1s 4ms/step - loss: 0.4596 - accuracy: 0.8547 - val_loss: 0.5314 - val_accuracy: 0.8119\n",
            "Epoch 35/50\n",
            "200/200 [==============================] - 1s 4ms/step - loss: 0.4479 - accuracy: 0.8544 - val_loss: 0.5269 - val_accuracy: 0.8125\n",
            "Epoch 36/50\n",
            "200/200 [==============================] - 1s 4ms/step - loss: 0.4423 - accuracy: 0.8612 - val_loss: 0.5225 - val_accuracy: 0.8138\n",
            "Epoch 37/50\n",
            "200/200 [==============================] - 1s 4ms/step - loss: 0.4356 - accuracy: 0.8597 - val_loss: 0.5183 - val_accuracy: 0.8156\n",
            "Epoch 38/50\n",
            "200/200 [==============================] - 1s 4ms/step - loss: 0.4266 - accuracy: 0.8628 - val_loss: 0.5150 - val_accuracy: 0.8188\n",
            "Epoch 39/50\n",
            "200/200 [==============================] - 1s 4ms/step - loss: 0.4135 - accuracy: 0.8691 - val_loss: 0.5114 - val_accuracy: 0.8175\n",
            "Epoch 40/50\n",
            "200/200 [==============================] - 1s 4ms/step - loss: 0.4125 - accuracy: 0.8678 - val_loss: 0.5081 - val_accuracy: 0.8188\n",
            "Epoch 41/50\n",
            "200/200 [==============================] - 1s 4ms/step - loss: 0.4048 - accuracy: 0.8777 - val_loss: 0.5051 - val_accuracy: 0.8175\n",
            "Epoch 42/50\n",
            "200/200 [==============================] - 1s 4ms/step - loss: 0.3974 - accuracy: 0.8773 - val_loss: 0.5026 - val_accuracy: 0.8213\n",
            "Epoch 43/50\n",
            "200/200 [==============================] - 1s 4ms/step - loss: 0.3924 - accuracy: 0.8752 - val_loss: 0.5001 - val_accuracy: 0.8219\n",
            "Epoch 44/50\n",
            "200/200 [==============================] - 1s 4ms/step - loss: 0.3852 - accuracy: 0.8803 - val_loss: 0.4978 - val_accuracy: 0.8244\n",
            "Epoch 45/50\n",
            "200/200 [==============================] - 1s 4ms/step - loss: 0.3765 - accuracy: 0.8827 - val_loss: 0.4959 - val_accuracy: 0.8213\n",
            "Epoch 46/50\n",
            "200/200 [==============================] - 1s 4ms/step - loss: 0.3733 - accuracy: 0.8830 - val_loss: 0.4938 - val_accuracy: 0.8175\n",
            "Epoch 47/50\n",
            "200/200 [==============================] - 1s 4ms/step - loss: 0.3647 - accuracy: 0.8839 - val_loss: 0.4922 - val_accuracy: 0.8206\n",
            "Epoch 48/50\n",
            "200/200 [==============================] - 1s 4ms/step - loss: 0.3610 - accuracy: 0.8858 - val_loss: 0.4909 - val_accuracy: 0.8231\n",
            "Epoch 49/50\n",
            "186/200 [==========================>...] - ETA: 0s - loss: 0.3528 - accuracy: 0.8908Restoring model weights from the end of the best epoch: 44.\n",
            "200/200 [==============================] - 1s 4ms/step - loss: 0.3507 - accuracy: 0.8908 - val_loss: 0.4899 - val_accuracy: 0.8206\n",
            "Epoch 49: early stopping\n"
          ]
        }
      ]
    },
    {
      "cell_type": "code",
      "source": [
        "loss, accuracy = model.evaluate(test_ds)\n",
        "\n",
        "print(\"Loss: \", loss)\n",
        "print(\"Accuracy: \", accuracy)"
      ],
      "metadata": {
        "colab": {
          "base_uri": "https://localhost:8080/"
        },
        "id": "sP2iAVcsgfRj",
        "outputId": "8c233ace-e7dd-4b1e-96eb-7d5ae0843c54"
      },
      "execution_count": 24,
      "outputs": [
        {
          "output_type": "stream",
          "name": "stdout",
          "text": [
            "250/250 [==============================] - 1s 3ms/step - loss: 0.5550 - accuracy: 0.7921\n",
            "Loss:  0.5549755096435547\n",
            "Accuracy:  0.7921249866485596\n"
          ]
        }
      ]
    },
    {
      "cell_type": "markdown",
      "source": [
        "## Plotting the results of our Model"
      ],
      "metadata": {
        "id": "dsEUURJ5ZM_g"
      }
    },
    {
      "cell_type": "code",
      "source": [
        "plt.plot(r.history['loss'], label='loss')\n",
        "plt.plot(r.history['val_loss'], label='val_loss')\n",
        "plt.legend();"
      ],
      "metadata": {
        "colab": {
          "base_uri": "https://localhost:8080/",
          "height": 430
        },
        "id": "VW6I0nj1g07f",
        "outputId": "8812e1b8-f3a3-4eb7-92db-814809a60e06"
      },
      "execution_count": 25,
      "outputs": [
        {
          "output_type": "display_data",
          "data": {
            "text/plain": [
              "<Figure size 640x480 with 1 Axes>"
            ],
            "image/png": "[encoded data removed]"
          },
          "metadata": {}
        }
      ]
    },
    {
      "cell_type": "code",
      "source": [
        "plt.plot(r.history['accuracy'], label = \"acc\")\n",
        "plt.plot(r.history['val_accuracy'], label = \"val_acc\")\n",
        "plt.legend();"
      ],
      "metadata": {
        "colab": {
          "base_uri": "https://localhost:8080/",
          "height": 430
        },
        "id": "2KbTqtCuhc-f",
        "outputId": "8f4a502d-1ac0-4f7d-edd5-1210c6971512"
      },
      "execution_count": 26,
      "outputs": [
        {
          "output_type": "display_data",
          "data": {
            "text/plain": [
              "<Figure size 640x480 with 1 Axes>"
            ],
            "image/png": "[encoded data removed]"
          },
          "metadata": {}
        }
      ]
    },
    {
      "cell_type": "markdown",
      "source": [
        "#### Confusion Matrix"
      ],
      "metadata": {
        "id": "7mR1jR5gZ8pa"
      }
    },
    {
      "cell_type": "code",
      "source": [
        "predictions = model.predict(test_ds)\n",
        "\n",
        "predicted_labels = np.argmax(predictions, axis=-1)\n",
        "\n",
        "actual_labels = []\n",
        "for _, label in raw_test_ds:\n",
        "  actual_labels.extend(label.numpy())\n",
        "\n",
        "# Compute the confusion matrix\n",
        "confusion_mtx = tf.math.confusion_matrix(actual_labels, predicted_labels).numpy()\n",
        "\n",
        "# Print the confusion matrix\n",
        "print(confusion_mtx)\n",
        "\n",
        "# Plot the confusion matrix\n",
        "plt.figure(figsize=(10,7))\n",
        "sns.heatmap(confusion_mtx, annot=True, fmt='d')\n",
        "plt.xlabel('Predicted')\n",
        "plt.ylabel('Truth')\n",
        "plt.show()\n"
      ],
      "metadata": {
        "colab": {
          "base_uri": "https://localhost:8080/",
          "height": 718
        },
        "id": "tSPCTEJkZT-0",
        "outputId": "7a7a66bb-a20f-49aa-9425-7c2f2ea84989"
      },
      "execution_count": 27,
      "outputs": [
        {
          "output_type": "stream",
          "name": "stdout",
          "text": [
            "250/250 [==============================] - 0s 1ms/step\n",
            "[[558 439 490 513]\n",
            " [508 437 529 526]\n",
            " [462 473 495 570]\n",
            " [503 440 496 561]]\n"
          ]
        },
        {
          "output_type": "display_data",
          "data": {
            "text/plain": [
              "<Figure size 1000x700 with 2 Axes>"
            ],
            "image/png": "[encoded data removed]"
          },
          "metadata": {}
        }
      ]
    },
    {
      "cell_type": "markdown",
      "source": [
        "## Exporting the Model for working with Raw text"
      ],
      "metadata": {
        "id": "AHGfg7OJaBfA"
      }
    },
    {
      "cell_type": "code",
      "source": [
        "export_model = tf.keras.Sequential([\n",
        "  vectorize_layer,\n",
        "  model,\n",
        "  layers.Activation('sigmoid')\n",
        "])\n",
        "\n",
        "export_model.compile(\n",
        "    loss=tf.keras.losses.SparseCategoricalCrossentropy(from_logits=True),\n",
        "    optimizer=\"adam\",\n",
        "    metrics=['accuracy']\n",
        ")\n",
        "\n",
        "# Test it with `raw_test_ds`, which yields raw strings\n",
        "loss, accuracy = export_model.evaluate(raw_test_ds)\n",
        "print(accuracy)"
      ],
      "metadata": {
        "colab": {
          "base_uri": "https://localhost:8080/"
        },
        "id": "OL5YwgUdZZYV",
        "outputId": "e93fb5e8-4f32-480d-a942-2e3384357883"
      },
      "execution_count": 28,
      "outputs": [
        {
          "output_type": "stream",
          "name": "stdout",
          "text": [
            "\r  1/250 [..............................] - ETA: 51s - loss: 0.7732 - accuracy: 0.7188"
          ]
        },
        {
          "output_type": "stream",
          "name": "stderr",
          "text": [
            "/usr/local/lib/python3.10/dist-packages/keras/src/backend.py:5727: UserWarning: \"`sparse_categorical_crossentropy` received `from_logits=True`, but the `output` argument was produced by a Softmax activation and thus does not represent logits. Was this intended?\n",
            "  output, from_logits = _get_logits(\n"
          ]
        },
        {
          "output_type": "stream",
          "name": "stdout",
          "text": [
            "250/250 [==============================] - 1s 3ms/step - loss: 0.5550 - accuracy: 0.7921\n",
            "0.7921249866485596\n"
          ]
        }
      ]
    },
    {
      "cell_type": "code",
      "source": [
        "labels = [\"Csharp\",\"Java\", \"Javascript\" ,\"Python\"]\n",
        "examples = [\n",
        "  \"Why can't this generic method return concrete class that implements it's interface?\",\n",
        "  \"I have a dictionary of size n and i want to double its size and put 0:0 in the remaining spots\",\n",
        "  \"Restsharp 110.2 returns 401 with Basic Authentication\",\n",
        "  \"How to make good reproducible pandas examples, a = 12 import pandas as pd\",\n",
        "]\n",
        "\n",
        "answers = export_model.predict(examples)\n",
        "print(answers)\n",
        "for i in range(0,len(examples)):\n",
        "  label = np.argmax(answers[i])\n",
        "  print(labels[label])"
      ],
      "metadata": {
        "colab": {
          "base_uri": "https://localhost:8080/"
        },
        "id": "dIpTgjJkZrl0",
        "outputId": "eb23bd42-b68f-43b3-add1-24c829a3c3a9"
      },
      "execution_count": 29,
      "outputs": [
        {
          "output_type": "stream",
          "name": "stdout",
          "text": [
            "1/1 [==============================] - 0s 84ms/step\n",
            "[[0.6089509  0.7028287  0.39805815 0.25639468]\n",
            " [0.5819973  0.48291448 0.3850802  0.53642803]\n",
            " [0.52587575 0.4459634  0.595763   0.45930967]\n",
            " [0.3359556  0.47467926 0.40791062 0.8153228 ]]\n",
            "Java\n",
            "Csharp\n",
            "Javascript\n",
            "Python\n"
          ]
        }
      ]
    },
    {
      "cell_type": "code",
      "source": [
        "export_model.save('./NLP-model')\n",
        "!tar -czf ./NLP-model.tar.gz ./NLP-model"
      ],
      "metadata": {
        "id": "qNw8ckdEZ4td"
      },
      "execution_count": 30,
      "outputs": []
    },
    {
      "cell_type": "markdown",
      "source": [
        "# Making a FAST API website with our model"
      ],
      "metadata": {
        "id": "9b8IqppW77BE"
      }
    },
    {
      "cell_type": "code",
      "source": [
        "from fastapi import FastAPI, Request, Form\n",
        "from fastapi.responses import HTMLResponse\n",
        "from fastapi.templating import Jinja2Templates\n",
        "import uvicorn\n",
        "import re\n",
        "import os\n",
        "import re\n",
        "import shutil\n",
        "import string\n",
        "import tensorflow as tf\n",
        "import numpy as np\n",
        "\n",
        "import numpy as np\n",
        "import tensorflow as tf\n",
        "\n",
        "from pydantic import BaseModel\n",
        "\n",
        "app = FastAPI()\n",
        "\n",
        "templates = Jinja2Templates(directory=\"templates\")\n",
        "\n",
        "\n",
        "@app.post(\"/submit\", response_class=HTMLResponse)\n",
        "async def submit(request: Request, text: str = Form(...)):\n",
        "    # Process the input text\n",
        "    processed_text = predictor(text)\n",
        "    return templates.TemplateResponse(\n",
        "        \"index.html\",\n",
        "        {\"request\": request, \"processed_text\": processed_text, \"text\": text},\n",
        "    )\n",
        "\n",
        "\n",
        "@app.get(\"/\", response_class=HTMLResponse)\n",
        "async def index(request: Request):\n",
        "    return templates.TemplateResponse(\"index.html\", {\"request\": request})\n",
        "\n",
        "\n",
        "class TextInput(BaseModel):\n",
        "    text: str\n",
        "\n",
        "\n",
        "@app.post(\"/echo\")\n",
        "async def echo(input: TextInput):\n",
        "    print(input)\n",
        "    return {\"text\": input.text}\n",
        "\n",
        "\n",
        "@app.get(\"/ping\")\n",
        "async def ping():\n",
        "    return \"Server Up and running\"\n",
        "\n",
        "\n",
        "# Define the custom standardization function\n",
        "def custom_standardization(input_data):\n",
        "    lowercase = tf.strings.lower(input_data)\n",
        "    stripped_html = tf.strings.regex_replace(lowercase, \"<br />\", \" \")\n",
        "    return tf.strings.regex_replace(\n",
        "        stripped_html, \"[%s]\" % re.escape(string.punctuation), \"\"\n",
        "    )\n",
        "\n",
        "\n",
        "# Load the model with the custom standardization function\n",
        "loaded_model = tf.keras.models.load_model(\n",
        "    \"./NLP-model\",\n",
        "    custom_objects={\"custom_standardization\": custom_standardization},\n",
        ")\n",
        "\n",
        "\n",
        "def predictor(input):\n",
        "    labels = [\"Csharp\", \"Java\", \"Javascript\", \"Python\"]\n",
        "    examples = [input]\n",
        "\n",
        "    answers = loaded_model.predict(examples)\n",
        "    label = np.argmax(answers)\n",
        "    return labels[label]\n",
        "\n",
        "\n",
        "if __name__ == \"__main__\":\n",
        "    uvicorn.run(app, host=\"localhost\", port=8082)\n"
      ],
      "metadata": {
        "id": "14HIaU_Z74dK",
        "outputId": "5b3eb69c-6e40-409a-ab6b-530814dc0f29",
        "colab": {
          "base_uri": "https://localhost:8080/",
          "height": 439
        }
      },
      "execution_count": 31,
      "outputs": [
        {
          "output_type": "error",
          "ename": "ModuleNotFoundError",
          "evalue": "No module named 'fastapi'",
          "traceback": [
            "\u001b[0;31m---------------------------------------------------------------------------\u001b[0m",
            "\u001b[0;31mModuleNotFoundError\u001b[0m                       Traceback (most recent call last)",
            "\u001b[0;32m<ipython-input-31-8e96b6122fc3>\u001b[0m in \u001b[0;36m<cell line: 1>\u001b[0;34m()\u001b[0m\n\u001b[0;32m----> 1\u001b[0;31m \u001b[0;32mfrom\u001b[0m \u001b[0mfastapi\u001b[0m \u001b[0;32mimport\u001b[0m \u001b[0mFastAPI\u001b[0m\u001b[0;34m,\u001b[0m \u001b[0mRequest\u001b[0m\u001b[0;34m,\u001b[0m \u001b[0mForm\u001b[0m\u001b[0;34m\u001b[0m\u001b[0;34m\u001b[0m\u001b[0m\n\u001b[0m\u001b[1;32m      2\u001b[0m \u001b[0;32mfrom\u001b[0m \u001b[0mfastapi\u001b[0m\u001b[0;34m.\u001b[0m\u001b[0mresponses\u001b[0m \u001b[0;32mimport\u001b[0m \u001b[0mHTMLResponse\u001b[0m\u001b[0;34m\u001b[0m\u001b[0;34m\u001b[0m\u001b[0m\n\u001b[1;32m      3\u001b[0m \u001b[0;32mfrom\u001b[0m \u001b[0mfastapi\u001b[0m\u001b[0;34m.\u001b[0m\u001b[0mtemplating\u001b[0m \u001b[0;32mimport\u001b[0m \u001b[0mJinja2Templates\u001b[0m\u001b[0;34m\u001b[0m\u001b[0;34m\u001b[0m\u001b[0m\n\u001b[1;32m      4\u001b[0m \u001b[0;32mimport\u001b[0m \u001b[0muvicorn\u001b[0m\u001b[0;34m\u001b[0m\u001b[0;34m\u001b[0m\u001b[0m\n\u001b[1;32m      5\u001b[0m \u001b[0;32mimport\u001b[0m \u001b[0mre\u001b[0m\u001b[0;34m\u001b[0m\u001b[0;34m\u001b[0m\u001b[0m\n",
            "\u001b[0;31mModuleNotFoundError\u001b[0m: No module named 'fastapi'",
            "",
            "\u001b[0;31m---------------------------------------------------------------------------\u001b[0;32m\nNOTE: If your import is failing due to a missing package, you can\nmanually install dependencies using either !pip or !apt.\n\nTo view examples of installing some common dependencies, click the\n\"Open Examples\" button below.\n\u001b[0;31m---------------------------------------------------------------------------\u001b[0m\n"
          ],
          "errorDetails": {
            "actions": [
              {
                "action": "open_url",
                "actionText": "Open Examples",
                "url": "/notebooks/snippets/importing_libraries.ipynb"
              }
            ]
          }
        }
      ]
    },
    {
      "cell_type": "markdown",
      "source": [
        "## Index.html\n",
        "\n",
        "```html\n",
        "<!doctype html>\n",
        "<html>\n",
        "  <head>\n",
        "    <script src=\"https://cdn.tailwindcss.com\"></script>\n",
        "    <style>\n",
        "    body {\n",
        "      display: flex;\n",
        "      flex-direction: column;\n",
        "      justify-content: center;\n",
        "      align-items: center;\n",
        "      min-height: 100vh;\n",
        "      background-color: #f0f0f0;\n",
        "      font-family: Arial, sans-serif;\n",
        "    }\n",
        "\n",
        "    form {\n",
        "      background-color: #fff;\n",
        "      padding: 20px;\n",
        "      border-radius: 5px;\n",
        "      box-shadow: 0px 0px 10px rgba(0, 0, 0, 0.1);\n",
        "    }\n",
        "\n",
        "    label {\n",
        "      display: block;\n",
        "      margin-bottom: 10px;\n",
        "    }\n",
        "\n",
        "    input[type=\"text\"] {\n",
        "      width: 100%;\n",
        "      padding: 10px;\n",
        "      margin-bottom: 20px;\n",
        "      border-radius: 5px;\n",
        "      border: 1px solid #ddd;\n",
        "    }\n",
        "\n",
        "    input[type=\"submit\"] {\n",
        "      background-color: #007bff;\n",
        "      color: white;\n",
        "      padding: 10px 20px;\n",
        "      border: none;\n",
        "      border-radius: 5px;\n",
        "      cursor: pointer;\n",
        "    }\n",
        "\n",
        "    input[type=\"submit\"]:hover {\n",
        "      background-color: #0056b3;\n",
        "    }\n",
        "\n",
        "    p {\n",
        "      margin-top: 20px;\n",
        "    }\n",
        "\n",
        "    .output {\n",
        "      background-color: #f0f0f0;\n",
        "      padding: 20px;\n",
        "      border-radius: 5px;\n",
        "      box-shadow: 0px 0px 10px rgba(0, 0, 0, 0.1);\n",
        "      margin-top: 20px;\n",
        "    }\n",
        "</style>\n",
        "  </head>\n",
        "  <body>\n",
        "    <form action=\"/submit\" method=\"post\">\n",
        "      <label for=\"text\">Enter Question:</label>\n",
        "      <input type=\"text\" id=\"text\" name=\"text\" />\n",
        "      <input type=\"submit\" value=\"Submit\" />\n",
        "    </form>\n",
        "    {% if processed_text %}\n",
        "    <div class=\"output\">\n",
        "      <p>\n",
        "        Your Question was: {{ text }}<br />\n",
        "        <br />\n",
        "        Model predicted the question is for following language: {{\n",
        "        processed_text }}\n",
        "      </p>\n",
        "    </div>\n",
        "    {% endif %}\n",
        "  </body>\n",
        "</html>\n",
        "```"
      ],
      "metadata": {
        "id": "0DSok-iX8Mzp"
      }
    }
  ]
}